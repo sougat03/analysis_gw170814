{
 "cells": [
  {
   "cell_type": "code",
   "execution_count": 2,
   "id": "ffc9ca0c-aebc-478c-a4ee-7e0eebbf02bc",
   "metadata": {},
   "outputs": [
    {
     "name": "stderr",
     "output_type": "stream",
     "text": [
      "/opt/miniconda3/envs/igwn-py310/lib/python3.10/site-packages/gwpy/time/__init__.py:36: UserWarning: Wswiglal-redir-stdio:\n",
      "\n",
      "SWIGLAL standard output/error redirection is enabled in IPython.\n",
      "This may lead to performance penalties. To disable locally, use:\n",
      "\n",
      "with lal.no_swig_redirect_standard_output_error():\n",
      "    ...\n",
      "\n",
      "To disable globally, use:\n",
      "\n",
      "lal.swig_redirect_standard_output_error(False)\n",
      "\n",
      "Note however that this will likely lead to error messages from\n",
      "LAL functions being either misdirected or lost when called from\n",
      "Jupyter notebooks.\n",
      "\n",
      "To suppress this warning, use:\n",
      "\n",
      "import warnings\n",
      "warnings.filterwarnings(\"ignore\", \"Wswiglal-redir-stdio\")\n",
      "import lal\n",
      "\n",
      "  from lal import LIGOTimeGPS\n"
     ]
    }
   ],
   "source": [
    "import bilby\n",
    "from gwpy.timeseries import TimeSeries"
   ]
  },
  {
   "cell_type": "code",
   "execution_count": 3,
   "id": "61c77015-9ebf-4f88-9fab-5b5cb99fbab4",
   "metadata": {},
   "outputs": [],
   "source": [
    "logger = bilby.core.utils.logger\n",
    "outdir = \"outdir\"\n",
    "label = \"GW170814\""
   ]
  },
  {
   "cell_type": "code",
   "execution_count": 4,
   "id": "d63ae978-3e56-4208-b013-66b0e601882f",
   "metadata": {},
   "outputs": [
    {
     "name": "stdout",
     "output_type": "stream",
     "text": [
      "GW170814 GPS:  1186741861.5\n"
     ]
    }
   ],
   "source": [
    "from gwosc.datasets import event_gps\n",
    "gps = event_gps('GW170814')\n",
    "print(\"GW170814 GPS: \", gps)"
   ]
  },
  {
   "cell_type": "code",
   "execution_count": 5,
   "id": "76488472-a69d-4e7c-97ba-fddf8ce99d57",
   "metadata": {},
   "outputs": [],
   "source": [
    "#gps is our trigger_time"
   ]
  },
  {
   "cell_type": "code",
   "execution_count": 6,
   "id": "d5bc37ca-acf3-464b-9f93-16a5554bc471",
   "metadata": {},
   "outputs": [],
   "source": [
    "detectors = [\"H1\" , \"L1\"]\n",
    "max_frequency = 512\n",
    "min_frequency = 20\n",
    "roll_off = 0.4\n",
    "duration = 4\n",
    "post_trigger_duration = 2\n",
    "end_time = gps + post_trigger_duration\n",
    "start_time = end_time - duration"
   ]
  },
  {
   "cell_type": "code",
   "execution_count": 7,
   "id": "2452a2e9-1ecf-4f17-a1cd-469a04078b85",
   "metadata": {},
   "outputs": [],
   "source": [
    "psd_duration = 32 * duration\n",
    "psd_start_time = start_time - psd_duration\n",
    "psd_end_time = start_time"
   ]
  },
  {
   "cell_type": "code",
   "execution_count": 8,
   "id": "3fac5dd1-40ba-46a7-a882-bcca7ebfd43d",
   "metadata": {},
   "outputs": [],
   "source": [
    "#now we get analysis data and create ifo_list"
   ]
  },
  {
   "cell_type": "code",
   "execution_count": 9,
   "id": "822a9a76-fbdb-478b-ae0d-a530db81ce0d",
   "metadata": {},
   "outputs": [
    {
     "name": "stderr",
     "output_type": "stream",
     "text": [
      "00:52 bilby INFO    : Downloading analysis data for ifo H1\n",
      "00:53 bilby INFO    : Downloadng psd data for ifo H1\n",
      "00:54 bilby INFO    : Downloading analysis data for ifo L1\n",
      "00:54 bilby INFO    : Downloadng psd data for ifo L1\n",
      "00:57 bilby INFO    : Saving data plots to outdir\n"
     ]
    }
   ],
   "source": [
    "ifo_list = bilby.gw.detector.InterferometerList([])\n",
    "for det in detectors:\n",
    "    logger.info(\"Downloading analysis data for ifo {}\".format(det))\n",
    "    ifo = bilby.gw.detector.get_empty_interferometer(det)\n",
    "    data = TimeSeries.fetch_open_data(det, start_time , end_time)\n",
    "    ifo.strain_data.set_from_gwpy_timeseries(data)\n",
    "    \n",
    "    logger.info(\"Downloadng psd data for ifo {}\".format(det))\n",
    "    psd_data = TimeSeries.fetch_open_data(det, psd_start_time, psd_end_time)\n",
    "    psd_alpha = 2*roll_off / duration\n",
    "    psd = psd_data.psd(\n",
    "         fftlength = duration, overlap = 0, window =(\"tukey\", psd_alpha), method = \"median\"\n",
    "    )\n",
    "    ifo.power_spectral_density = bilby.gw.detector.PowerSpectralDensity(\n",
    "        frequency_array = psd.frequencies.value, psd_array = psd.value\n",
    "    )\n",
    "    ifo.maximum_frequency = max_frequency\n",
    "    ifo.minimum_frequenxy = min_frequency\n",
    "    ifo_list.append(ifo)\n",
    "\n",
    "logger.info(\"Saving data plots to {}\".format(outdir))\n",
    "bilby.core.utils.check_directory_exists_and_if_not_mkdir(outdir)\n",
    "ifo_list.plot_data(outdir=outdir, label=label)"
   ]
  },
  {
   "cell_type": "code",
   "execution_count": 10,
   "id": "533df8d7-638a-478a-9057-2424ad13e9da",
   "metadata": {},
   "outputs": [],
   "source": [
    "#now we define prior"
   ]
  },
  {
   "cell_type": "code",
   "execution_count": 19,
   "id": "dfee8bb3-326d-499c-9a1c-9b1624e3abfa",
   "metadata": {
    "scrolled": true
   },
   "outputs": [
    {
     "name": "stdout",
     "output_type": "stream",
     "text": [
      "{'mass_1': Constraint(minimum=20, maximum=40, name='mass_1', latex_label='$m_1$', unit='$M_{\\\\odot}$'), 'mass_2': Constraint(minimum=20, maximum=40, name='mass_2', latex_label='$m_2$', unit='$M_{\\\\odot}$'), 'mass_ratio': bilby.gw.prior.UniformInComponentsMassRatio(minimum=0.125, maximum=1, name='mass_ratio', latex_label='$q$', unit=None, boundary=None, equal_mass=False), 'chirp_mass': bilby.gw.prior.UniformInComponentsChirpMass(minimum=25, maximum=100, name='chirp_mass', latex_label='$\\\\mathcal{M}$', unit=None, boundary=None), 'luminosity_distance': PowerLaw(alpha=2, minimum=300, maximum=3000, name='luminosity_distance', latex_label='$d_L$', unit='Mpc', boundary=None), 'dec': Cosine(minimum=-1.5707963267948966, maximum=1.5707963267948966, name='dec', latex_label='$\\\\mathrm{DEC}$', unit=None, boundary=None), 'ra': Uniform(minimum=0, maximum=6.283185307179586, name='ra', latex_label='$\\\\mathrm{RA}$', unit=None, boundary='periodic'), 'theta_jn': Sine(minimum=0, maximum=3.141592653589793, name='theta_jn', latex_label='$\\\\theta_{JN}$', unit=None, boundary=None), 'psi': Uniform(minimum=0, maximum=3.141592653589793, name='psi', latex_label='$\\\\psi$', unit=None, boundary='periodic'), 'phase': Uniform(minimum=0, maximum=6.283185307179586, name='phase', latex_label='$\\\\phi$', unit=None, boundary='periodic'), 'a_1': Uniform(minimum=0, maximum=0.99, name='a_1', latex_label='$a_1$', unit=None, boundary=None), 'a_2': Uniform(minimum=0, maximum=0.99, name='a_2', latex_label='$a_2$', unit=None, boundary=None), 'tilt_1': Sine(minimum=0, maximum=3.141592653589793, name='tilt_1', latex_label='$\\\\theta_1$', unit=None, boundary=None), 'tilt_2': Sine(minimum=0, maximum=3.141592653589793, name='tilt_2', latex_label='$\\\\theta_2$', unit=None, boundary=None), 'phi_12': Uniform(minimum=0, maximum=6.283185307179586, name='phi_12', latex_label='$\\\\Delta\\\\phi$', unit=None, boundary='periodic'), 'phi_jl': Uniform(minimum=0, maximum=6.283185307179586, name='phi_jl', latex_label='$\\\\phi_{JL}$', unit=None, boundary='periodic')}\n"
     ]
    }
   ],
   "source": [
    "priors = bilby.gw.prior.BBHPriorDict(filename = \"GW170814.prior\")\n",
    "print(priors)"
   ]
  },
  {
   "cell_type": "code",
   "execution_count": 20,
   "id": "04fe4281-ec04-4e24-a540-413e352fc017",
   "metadata": {},
   "outputs": [],
   "source": [
    "priors[\"geocent_time\"] = bilby.core.prior.Uniform(\n",
    "    minimum=gps - 0.1,\n",
    "    maximum=gps + 0.1,\n",
    "    name = \"geocent_time\"\n",
    ")"
   ]
  },
  {
   "cell_type": "code",
   "execution_count": 21,
   "id": "12bb7886-c96f-4c6b-b45f-fc83d281bc2c",
   "metadata": {},
   "outputs": [],
   "source": [
    "#now we define a waveform generator which creates a frequency domain strain, \n",
    "#we will use 'lal binary_black_hole model' as our source model. Other parameters - the waveform approximant and \n",
    "#reference frequency and a parameter conversion\n",
    "# which allows us to sample in chirp mass and ratio rather than component mass\n"
   ]
  },
  {
   "cell_type": "code",
   "execution_count": 22,
   "id": "2daee35c-b4c1-4a17-b19f-98bf40020986",
   "metadata": {},
   "outputs": [
    {
     "name": "stderr",
     "output_type": "stream",
     "text": [
      "01:04 bilby INFO    : Waveform generator initiated with\n",
      "  frequency_domain_source_model: bilby.gw.source.lal_binary_black_hole\n",
      "  time_domain_source_model: None\n",
      "  parameter_conversion: bilby.gw.conversion.convert_to_lal_binary_black_hole_parameters\n"
     ]
    }
   ],
   "source": [
    "waveform_generator = bilby.gw.WaveformGenerator(\n",
    "    frequency_domain_source_model=bilby.gw.source.lal_binary_black_hole,\n",
    "    parameter_conversion=bilby.gw.conversion.convert_to_lal_binary_black_hole_parameters,\n",
    "    waveform_arguments={\n",
    "        \"waveform_approximant\": \"IMRPhenomPv2\",\n",
    "        \"reference_frequency\": 50,\n",
    "    },\n",
    ")"
   ]
  },
  {
   "cell_type": "code",
   "execution_count": 23,
   "id": "41a010e0-d298-4c24-96d2-5794fa5b6a16",
   "metadata": {},
   "outputs": [],
   "source": [
    "#Now define the likelihood. standard likelihood function, passing it the data and the waveform generator.\n",
    "#phase_marginalization is formally invalid with a precessing waveform such as IMRPhenomPv2"
   ]
  },
  {
   "cell_type": "code",
   "execution_count": 27,
   "id": "0886abb8-f024-4c94-8d93-5bcbe93da244",
   "metadata": {},
   "outputs": [
    {
     "name": "stderr",
     "output_type": "stream",
     "text": [
      "01:04 bilby INFO    : Loaded distance marginalisation lookup table does not match for distance_array.\n",
      "01:04 bilby INFO    : Building lookup table for distance marginalisation.\n"
     ]
    },
    {
     "data": {
      "application/vnd.jupyter.widget-view+json": {
       "model_id": "75caaf01dd854ad2b8c0ece13775b625",
       "version_major": 2,
       "version_minor": 0
      },
      "text/plain": [
       "  0%|          | 0/400 [00:00<?, ?it/s]"
      ]
     },
     "metadata": {},
     "output_type": "display_data"
    }
   ],
   "source": [
    "likelihood = bilby.gw.likelihood.GravitationalWaveTransient(\n",
    "    ifo_list,\n",
    "    waveform_generator,\n",
    "    priors=priors,\n",
    "    time_marginalization=True,\n",
    "    phase_marginalization=False,\n",
    "    distance_marginalization=True,\n",
    ")\n"
   ]
  },
  {
   "cell_type": "code",
   "execution_count": 28,
   "id": "71c4fa5e-f2b9-430a-89e1-f61d953480fb",
   "metadata": {},
   "outputs": [],
   "source": [
    "#Now we run the sampler"
   ]
  },
  {
   "cell_type": "code",
   "execution_count": null,
   "id": "5487d964-15c1-4568-89bb-d3e92430d05d",
   "metadata": {},
   "outputs": [
    {
     "name": "stderr",
     "output_type": "stream",
     "text": [
      "01:05 bilby INFO    : Running for label 'GW170814', output will be saved to 'outdir'\n",
      "01:05 bilby INFO    : Using lal version 7.6.1\n",
      "01:05 bilby INFO    : Using lal git version Branch: None;Tag: lal-v7.6.1;Id: 31af23159ed7c6557180f58ad3f39a06e5a08731;;Builder: Adam Mercer <adam.mercer@ligo.org>;Repository status: CLEAN: All modifications committed\n",
      "01:05 bilby INFO    : Using lalsimulation version 6.1.0\n",
      "01:05 bilby INFO    : Using lalsimulation git version Branch: None;Tag: lalsimulation-v6.1.0;Id: 8041734408377ca999821f7e372e2a02e9226e6b;;Builder: Adam Mercer <adam.mercer@ligo.org>;Repository status: CLEAN: All modifications committed\n",
      "01:05 bilby INFO    : Analysis priors:\n",
      "01:05 bilby INFO    : mass_ratio=bilby.gw.prior.UniformInComponentsMassRatio(minimum=0.125, maximum=1, name='mass_ratio', latex_label='$q$', unit=None, boundary=None, equal_mass=False)\n",
      "01:05 bilby INFO    : chirp_mass=bilby.gw.prior.UniformInComponentsChirpMass(minimum=25, maximum=100, name='chirp_mass', latex_label='$\\\\mathcal{M}$', unit=None, boundary=None)\n",
      "01:05 bilby INFO    : dec=Cosine(minimum=-1.5707963267948966, maximum=1.5707963267948966, name='dec', latex_label='$\\\\mathrm{DEC}$', unit=None, boundary=None)\n",
      "01:05 bilby INFO    : ra=Uniform(minimum=0, maximum=6.283185307179586, name='ra', latex_label='$\\\\mathrm{RA}$', unit=None, boundary='periodic')\n",
      "01:05 bilby INFO    : theta_jn=Sine(minimum=0, maximum=3.141592653589793, name='theta_jn', latex_label='$\\\\theta_{JN}$', unit=None, boundary=None)\n",
      "01:05 bilby INFO    : psi=Uniform(minimum=0, maximum=3.141592653589793, name='psi', latex_label='$\\\\psi$', unit=None, boundary='periodic')\n",
      "01:05 bilby INFO    : phase=Uniform(minimum=0, maximum=6.283185307179586, name='phase', latex_label='$\\\\phi$', unit=None, boundary='periodic')\n",
      "01:05 bilby INFO    : a_1=Uniform(minimum=0, maximum=0.99, name='a_1', latex_label='$a_1$', unit=None, boundary=None)\n",
      "01:05 bilby INFO    : a_2=Uniform(minimum=0, maximum=0.99, name='a_2', latex_label='$a_2$', unit=None, boundary=None)\n",
      "01:05 bilby INFO    : tilt_1=Sine(minimum=0, maximum=3.141592653589793, name='tilt_1', latex_label='$\\\\theta_1$', unit=None, boundary=None)\n",
      "01:05 bilby INFO    : tilt_2=Sine(minimum=0, maximum=3.141592653589793, name='tilt_2', latex_label='$\\\\theta_2$', unit=None, boundary=None)\n",
      "01:05 bilby INFO    : phi_12=Uniform(minimum=0, maximum=6.283185307179586, name='phi_12', latex_label='$\\\\Delta\\\\phi$', unit=None, boundary='periodic')\n",
      "01:05 bilby INFO    : phi_jl=Uniform(minimum=0, maximum=6.283185307179586, name='phi_jl', latex_label='$\\\\phi_{JL}$', unit=None, boundary='periodic')\n",
      "01:05 bilby INFO    : time_jitter=Uniform(minimum=-0.000244140625, maximum=0.000244140625, name='time_jitter', latex_label='$t_j$', unit=None, boundary='periodic')\n",
      "01:05 bilby INFO    : mass_1=Constraint(minimum=20, maximum=40, name='mass_1', latex_label='$m_1$', unit='$M_{\\\\odot}$')\n",
      "01:05 bilby INFO    : mass_2=Constraint(minimum=20, maximum=40, name='mass_2', latex_label='$m_2$', unit='$M_{\\\\odot}$')\n",
      "01:05 bilby INFO    : luminosity_distance=2381.895014058324\n",
      "01:05 bilby INFO    : geocent_time=1186741859.5\n",
      "01:05 bilby INFO    : Analysis likelihood class: <class 'bilby.gw.likelihood.base.GravitationalWaveTransient'>\n",
      "01:05 bilby INFO    : Analysis likelihood noise evidence: -4577.573402343227\n",
      "01:05 bilby INFO    : Single likelihood evaluation took 2.008e-02 s\n",
      "01:05 bilby INFO    : Using sampler Dynesty with kwargs {'nlive': 1000, 'bound': 'live', 'sample': 'act-walk', 'periodic': None, 'reflective': None, 'update_interval': 600, 'first_update': None, 'npdim': None, 'rstate': None, 'queue_size': 1, 'pool': None, 'use_pool': None, 'live_points': None, 'logl_args': None, 'logl_kwargs': None, 'ptform_args': None, 'ptform_kwargs': None, 'gradient': None, 'grad_args': None, 'grad_kwargs': None, 'compute_jac': False, 'enlarge': None, 'bootstrap': None, 'walks': 100, 'facc': 0.2, 'slices': None, 'fmove': 0.9, 'max_move': 100, 'update_func': None, 'ncdim': None, 'blob': False, 'save_history': False, 'history_filename': None, 'maxiter': None, 'maxcall': None, 'dlogz': 0.1, 'logl_max': inf, 'n_effective': None, 'add_live': True, 'print_progress': True, 'print_func': <bound method Dynesty._print_func of <bilby.core.sampler.dynesty.Dynesty object at 0x15300bf10>>, 'save_bounds': False, 'checkpoint_file': None, 'checkpoint_every': 60, 'resume': False}\n",
      "01:05 bilby INFO    : Checkpoint every check_point_delta_t = 600s\n",
      "01:05 bilby INFO    : Using dynesty version 2.1.5\n",
      "01:05 bilby INFO    : Using the bilby-implemented act-walk sampling tracking the autocorrelation function and thinning by 2 with maximum length 10000\n",
      "01:05 bilby INFO    : Resume file outdir/GW170814_resume.pickle does not exist.\n",
      "01:05 bilby INFO    : Generating initial points from the prior\n"
     ]
    },
    {
     "data": {
      "application/vnd.jupyter.widget-view+json": {
       "model_id": "9a6c96b0671e40d0808bfde598987095",
       "version_major": 2,
       "version_minor": 0
      },
      "text/plain": [
       "1it [00:00, ?it/s]"
      ]
     },
     "metadata": {},
     "output_type": "display_data"
    },
    {
     "name": "stderr",
     "output_type": "stream",
     "text": [
      "/opt/miniconda3/envs/igwn-py310/lib/python3.10/site-packages/dynesty/sampler.py:761: UserWarning: The sampling was stopped short due to maxiter/maxcall limit the delta(log(z)) criterion is not achieved; posterior may be poorly sampled\n",
      "  warnings.warn('The sampling was stopped short due to'\n"
     ]
    }
   ],
   "source": [
    "result = bilby.run_sampler(\n",
    "    likelihood,\n",
    "    priors,\n",
    "    sampler=\"dynesty\",\n",
    "    outdir=outdir,\n",
    "    label=label,\n",
    "    nlive=1000,\n",
    "    check_point_delta_t=600,\n",
    "    check_point_plot=True,\n",
    "    npool=1,\n",
    "    conversion_function=bilby.gw.conversion.generate_all_bbh_parameters,\n",
    ")\n",
    "result.plot_corner()\n"
   ]
  },
  {
   "cell_type": "code",
   "execution_count": null,
   "id": "0f32cbf1-97d4-4e8a-bdd4-06add86b4b3f",
   "metadata": {},
   "outputs": [],
   "source": []
  }
 ],
 "metadata": {
  "kernelspec": {
   "display_name": "Python (igwn-py310)",
   "language": "python",
   "name": "igwn-py310"
  },
  "language_info": {
   "codemirror_mode": {
    "name": "ipython",
    "version": 3
   },
   "file_extension": ".py",
   "mimetype": "text/x-python",
   "name": "python",
   "nbconvert_exporter": "python",
   "pygments_lexer": "ipython3",
   "version": "3.10.16"
  }
 },
 "nbformat": 4,
 "nbformat_minor": 5
}
