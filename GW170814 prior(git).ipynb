{
 "cells": [
  {
   "cell_type": "code",
   "execution_count": 11,
   "id": "78f99bdf-d216-4f21-acf8-317c0cf34cfc",
   "metadata": {},
   "outputs": [
    {
     "name": "stderr",
     "output_type": "stream",
     "text": [
      "19:13 bilby INFO    : No prior given, using default BBH priors in /opt/miniconda3/envs/igwn-py310/lib/python3.10/site-packages/bilby/gw/prior_files/precessing_spins_bbh.prior.\n"
     ]
    }
   ],
   "source": [
    "import bilby\n",
    "from bilby.gw.prior import BBHPriorDict\n",
    "from bilby.core.prior import Uniform, PowerLaw, Sine, Cosine, Constraint\n",
    "\n",
    "priors = BBHPriorDict()\n",
    "\n",
    "# Mass priors\n",
    "priors['mass_1'] = Constraint(minimum=20, maximum=40, name='mass_1', latex_label='$m_1$',unit='$M_{\\\\odot}$')\n",
    "priors['mass_2'] = Constraint(minimum=20, maximum=40, name='mass_2', latex_label='$m_2$',unit='$M_{\\\\odot}$')\n",
    "priors['mass_ratio'] : bilby.gw.prior.UniformInComponentsMassRatio(minimum=0.125, maximum=1, name='mass_ratio', latex_label='$q$', unit=None, boundary=None, equal_mass=False)\n",
    "priors['chirp_mass'] : bilby.gw.prior.UniformInComponentsChirpMass(minimum=12, maximum=45, name='chirp_mass', latex_label='$\\\\mathcal{M}$',unit='$M_{\\\\odot}$', boundary=None)\n",
    "\n",
    "# Spin priors\n",
    "priors['a_1'] = Uniform(minimum=0, maximum=0.99, name='a_1', latex_label='$a_1$',unit=None, boundary=None)\n",
    "priors['a_2'] = Uniform(minimum=0, maximum=0.99, name='a_2', latex_label='$a_2$',unit=None, boundary=None)\n",
    "priors['tilt_1'] = Sine(minimum=0, maximum=3.141592653589793, name='tilt_1', latex_label='$\\\\theta_1$',unit=None, boundary=None)\n",
    "priors['tilt_2'] = Sine(minimum=0, maximum=3.141592653589793, name='tilt_2', latex_label='$\\\\theta_2$',unit=None, boundary=None)\n",
    "\n",
    "# Angular priors\n",
    "priors['ra'] = Uniform(minimum=0, maximum=6.283185307179586, name='ra', latex_label='$\\\\mathrm{RA}$',unit=None, boundary='periodic')\n",
    "priors['dec'] = Cosine(minimum=-1.5707963267948966, maximum=1.5707963267948966, name='dec', latex_label='$\\\\mathrm{DEC}$',unit=None, boundary=None)\n",
    "\n",
    "# Distance prior\n",
    "priors['luminosity_distance'] = PowerLaw(alpha=2, minimum=300, maximum=3000, name='luminosity_distance', latex_label='$d_L$', unit='Mpc', boundary=None)\n",
    "\n",
    "# Time prior\n",
    "#priors['geocent_time'] = Uniform(minimum=1186741861.4, maximum=1186741861.6, name='geocent_time', latex_label='$t_c$', unit='s')\n",
    "\n",
    "# Inclination prior\n",
    "priors['theta_jn'] = Sine(minimum=0, maximum=3.141592653589793, name='theta_jn', latex_label='$\\\\theta_{JN}$',unit=None, boundary=None)\n",
    "\n",
    "# Polarization and phase priors\n",
    "priors['psi'] = Uniform(minimum=0, maximum=3.141592653589793, name='psi', latex_label='$\\\\psi$',unit=None, boundary='periodic')\n",
    "priors['phase'] = Uniform(minimum=0, maximum=6.283185307179586, name='phase', latex_label='$\\\\phi$',unit=None, boundary='periodic')\n",
    "\n",
    "# Additional angular priors\n",
    "priors['phi_12'] = Uniform(minimum=0, maximum=6.283185307179586, name='phi_12', latex_label='$\\\\Delta\\\\phi$',unit=None, boundary='periodic')\n",
    "priors['phi_jl'] = Uniform(minimum=0, maximum=6.283185307179586, name='phi_jl', latex_label='$\\\\phi_{JL}$',unit=None, boundary='periodic')\n"
   ]
  },
  {
   "cell_type": "code",
   "execution_count": 12,
   "id": "b5eee7b5-95e0-48f0-bdef-11390394a6f9",
   "metadata": {},
   "outputs": [],
   "source": [
    "with open(\"GW170814.prior\", \"w\") as f:\n",
    "    for key, value in priors.items():\n",
    "        f.write(f\"{key} = {value}\\n\")"
   ]
  },
  {
   "cell_type": "code",
   "execution_count": null,
   "id": "0b08736e-2351-4c05-8f87-4da52d074fa5",
   "metadata": {},
   "outputs": [],
   "source": []
  }
 ],
 "metadata": {
  "kernelspec": {
   "display_name": "Python (igwn-py310)",
   "language": "python",
   "name": "igwn-py310"
  },
  "language_info": {
   "codemirror_mode": {
    "name": "ipython",
    "version": 3
   },
   "file_extension": ".py",
   "mimetype": "text/x-python",
   "name": "python",
   "nbconvert_exporter": "python",
   "pygments_lexer": "ipython3",
   "version": "3.10.16"
  }
 },
 "nbformat": 4,
 "nbformat_minor": 5
}
